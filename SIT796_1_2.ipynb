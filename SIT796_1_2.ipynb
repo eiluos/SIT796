{
  "nbformat": 4,
  "nbformat_minor": 0,
  "metadata": {
    "colab": {
      "name": "SIT796-1-2.ipynb",
      "provenance": [],
      "collapsed_sections": [],
      "toc_visible": true,
      "authorship_tag": "ABX9TyNjGXKIEmBtDB1UnFqzRA5J",
      "include_colab_link": true
    },
    "kernelspec": {
      "name": "python3",
      "display_name": "Python 3"
    }
  },
  "cells": [
    {
      "cell_type": "markdown",
      "metadata": {
        "id": "view-in-github",
        "colab_type": "text"
      },
      "source": [
        "<a href=\"https://colab.research.google.com/github/eiluos/SIT796/blob/main/SIT796_1_2.ipynb\" target=\"_parent\"><img src=\"https://colab.research.google.com/assets/colab-badge.svg\" alt=\"Open In Colab\"/></a>"
      ]
    },
    {
      "cell_type": "markdown",
      "metadata": {
        "id": "R5PqUQ-yIPJF"
      },
      "source": [
        "SIT796 - Task 1.2 Policy Definition\r\n"
      ]
    },
    {
      "cell_type": "markdown",
      "metadata": {
        "id": "iuuTMhQPIWHB"
      },
      "source": [
        "Set up OpenAI gym environment"
      ]
    },
    {
      "cell_type": "code",
      "metadata": {
        "id": "sves6WLEIJX7",
        "colab": {
          "base_uri": "https://localhost:8080/"
        },
        "outputId": "f0c9de25-66fd-494c-f132-3cddb7afd789"
      },
      "source": [
        "# install required system dependencies\r\n",
        "# install required system dependencies\r\n",
        "!apt-get install -y xvfb x11-utils \r\n",
        "!apt-get install x11-utils > /dev/null 2>&1\r\n",
        "!pip install PyVirtualDisplay==2.0.* \\\r\n",
        "  PyOpenGL==3.1.* \\\r\n",
        "  PyOpenGL-accelerate==3.1.* \\\r\n",
        "  gym[box2d]==0.17.* \r\n",
        "!pip install pyglet\r\n",
        "\r\n",
        "# import other libraries\r\n",
        "import gym\r\n",
        "import numpy as np\r\n",
        "import base64\r\n",
        "import io\r\n",
        "import IPython"
      ],
      "execution_count": null,
      "outputs": [
        {
          "output_type": "stream",
          "text": [
            "Reading package lists... Done\n",
            "Building dependency tree       \n",
            "Reading state information... Done\n",
            "The following additional packages will be installed:\n",
            "  libxxf86dga1\n",
            "Suggested packages:\n",
            "  mesa-utils\n",
            "The following NEW packages will be installed:\n",
            "  libxxf86dga1 x11-utils xvfb\n",
            "0 upgraded, 3 newly installed, 0 to remove and 29 not upgraded.\n",
            "Need to get 993 kB of archives.\n",
            "After this operation, 2,981 kB of additional disk space will be used.\n",
            "Get:1 http://archive.ubuntu.com/ubuntu bionic/main amd64 libxxf86dga1 amd64 2:1.1.4-1 [13.7 kB]\n",
            "Get:2 http://archive.ubuntu.com/ubuntu bionic/main amd64 x11-utils amd64 7.7+3build1 [196 kB]\n",
            "Get:3 http://archive.ubuntu.com/ubuntu bionic-updates/universe amd64 xvfb amd64 2:1.19.6-1ubuntu4.8 [784 kB]\n",
            "Fetched 993 kB in 1s (1,183 kB/s)\n",
            "Selecting previously unselected package libxxf86dga1:amd64.\n",
            "(Reading database ... 160975 files and directories currently installed.)\n",
            "Preparing to unpack .../libxxf86dga1_2%3a1.1.4-1_amd64.deb ...\n",
            "Unpacking libxxf86dga1:amd64 (2:1.1.4-1) ...\n",
            "Selecting previously unselected package x11-utils.\n",
            "Preparing to unpack .../x11-utils_7.7+3build1_amd64.deb ...\n",
            "Unpacking x11-utils (7.7+3build1) ...\n",
            "Selecting previously unselected package xvfb.\n",
            "Preparing to unpack .../xvfb_2%3a1.19.6-1ubuntu4.8_amd64.deb ...\n",
            "Unpacking xvfb (2:1.19.6-1ubuntu4.8) ...\n",
            "Setting up xvfb (2:1.19.6-1ubuntu4.8) ...\n",
            "Setting up libxxf86dga1:amd64 (2:1.1.4-1) ...\n",
            "Setting up x11-utils (7.7+3build1) ...\n",
            "Processing triggers for man-db (2.8.3-2ubuntu0.1) ...\n",
            "Processing triggers for libc-bin (2.27-3ubuntu1.2) ...\n",
            "/sbin/ldconfig.real: /usr/local/lib/python3.7/dist-packages/ideep4py/lib/libmkldnn.so.0 is not a symbolic link\n",
            "\n",
            "Collecting PyVirtualDisplay==2.0.*\n",
            "  Downloading https://files.pythonhosted.org/packages/ad/05/6568620fed440941b704664b9cfe5f836ad699ac7694745e7787fbdc8063/PyVirtualDisplay-2.0-py2.py3-none-any.whl\n",
            "Requirement already satisfied: PyOpenGL==3.1.* in /usr/local/lib/python3.7/dist-packages (3.1.5)\n",
            "Collecting PyOpenGL-accelerate==3.1.*\n",
            "\u001b[?25l  Downloading https://files.pythonhosted.org/packages/a2/3c/f42a62b7784c04b20f8b88d6c8ad04f4f20b0767b721102418aad94d8389/PyOpenGL-accelerate-3.1.5.tar.gz (538kB)\n",
            "\u001b[K     |████████████████████████████████| 542kB 5.6MB/s \n",
            "\u001b[?25hRequirement already satisfied: gym[box2d]==0.17.* in /usr/local/lib/python3.7/dist-packages (0.17.3)\n",
            "Collecting EasyProcess\n",
            "  Downloading https://files.pythonhosted.org/packages/48/3c/75573613641c90c6d094059ac28adb748560d99bd27ee6f80cce398f404e/EasyProcess-0.3-py2.py3-none-any.whl\n",
            "Requirement already satisfied: cloudpickle<1.7.0,>=1.2.0 in /usr/local/lib/python3.7/dist-packages (from gym[box2d]==0.17.*) (1.3.0)\n",
            "Requirement already satisfied: pyglet<=1.5.0,>=1.4.0 in /usr/local/lib/python3.7/dist-packages (from gym[box2d]==0.17.*) (1.5.0)\n",
            "Requirement already satisfied: scipy in /usr/local/lib/python3.7/dist-packages (from gym[box2d]==0.17.*) (1.4.1)\n",
            "Requirement already satisfied: numpy>=1.10.4 in /usr/local/lib/python3.7/dist-packages (from gym[box2d]==0.17.*) (1.19.5)\n",
            "Collecting box2d-py~=2.3.5; extra == \"box2d\"\n",
            "\u001b[?25l  Downloading https://files.pythonhosted.org/packages/87/34/da5393985c3ff9a76351df6127c275dcb5749ae0abbe8d5210f06d97405d/box2d_py-2.3.8-cp37-cp37m-manylinux1_x86_64.whl (448kB)\n",
            "\u001b[K     |████████████████████████████████| 450kB 17.7MB/s \n",
            "\u001b[?25hRequirement already satisfied: future in /usr/local/lib/python3.7/dist-packages (from pyglet<=1.5.0,>=1.4.0->gym[box2d]==0.17.*) (0.16.0)\n",
            "Building wheels for collected packages: PyOpenGL-accelerate\n",
            "  Building wheel for PyOpenGL-accelerate (setup.py) ... \u001b[?25l\u001b[?25hdone\n",
            "  Created wheel for PyOpenGL-accelerate: filename=PyOpenGL_accelerate-3.1.5-cp37-cp37m-linux_x86_64.whl size=1599134 sha256=fc6c57cc3198bef943a9fe1ffef358815d0cae60c19523f55c7c6bd734065f23\n",
            "  Stored in directory: /root/.cache/pip/wheels/bd/21/77/99670ceca25fddb3c2b60a7ae44644b8253d1006e8ec417bcc\n",
            "Successfully built PyOpenGL-accelerate\n",
            "Installing collected packages: EasyProcess, PyVirtualDisplay, PyOpenGL-accelerate, box2d-py\n",
            "Successfully installed EasyProcess-0.3 PyOpenGL-accelerate-3.1.5 PyVirtualDisplay-2.0 box2d-py-2.3.8\n",
            "Requirement already satisfied: pyglet in /usr/local/lib/python3.7/dist-packages (1.5.0)\n",
            "Requirement already satisfied: future in /usr/local/lib/python3.7/dist-packages (from pyglet) (0.16.0)\n"
          ],
          "name": "stdout"
        }
      ]
    },
    {
      "cell_type": "markdown",
      "metadata": {
        "id": "JZTbKMv9Iat4"
      },
      "source": [
        "Custom Environment Class"
      ]
    },
    {
      "cell_type": "code",
      "metadata": {
        "id": "OTgB5C1yIyIm"
      },
      "source": [
        "from gym.wrappers import Monitor\r\n",
        "from IPython import display\r\n",
        "from pyvirtualdisplay import Display\r\n",
        "from gym import spaces\r\n",
        "\r\n",
        "\r\n",
        "# I based some of my code off the maze environment since it is similar\r\n",
        "# create my custom environment\r\n",
        "class CleanEnv(gym.Env):\r\n",
        "  metadata = {'render.modes': ['human']}\r\n",
        "\r\n",
        "  # declare a variable for direction the agent moves\r\n",
        "  move = [\"N\", \"S\", \"E\", \"W\"]\r\n",
        "\r\n",
        "  # constructor\r\n",
        "  def __init__(self):\r\n",
        "    \r\n",
        "    # Action Space: the number of actions the agent can take\r\n",
        "    # The agent can move in 4 directions - north, south, east and west\r\n",
        "    self.action_space = spaces.Discrete(4)\r\n",
        "    \r\n",
        "    # Observation Space: the line of sight the agent can observe\r\n",
        "    # I will make the agent be able to see in 8 directions of up to 5 squares\r\n",
        "    self.observation_space = spaces.Box(np.array([0,0,0,0,0,0,0,0]), np.array([5,5,5,5,5,5,5,5]), dtype=np.int)\r\n",
        "\r\n",
        "  # step function\r\n",
        "  def step(self, action):\r\n",
        "    # Execute one time step within the environment\r\n",
        "  \r\n",
        "  # reset function\r\n",
        "  def reset(self):\r\n",
        "    # Reset the state of the environment to an initial state\r\n",
        "    return self.state\r\n",
        "  \r\n",
        "  # no render for this task\r\n"
      ],
      "execution_count": null,
      "outputs": []
    },
    {
      "cell_type": "markdown",
      "metadata": {
        "id": "4Rq9I3TTIykC"
      },
      "source": [
        "Policy"
      ]
    },
    {
      "cell_type": "code",
      "metadata": {
        "id": "uSYpGTWDIzVz"
      },
      "source": [
        "import time\r\n",
        "from random import randint\r\n",
        "from random import seed\r\n",
        "\r\n",
        "def policy(obs, t):\r\n",
        "    # Write the code for your policy here. You can use the observation\r\n",
        "    # (a tuple of position and velocity), the current time step, or both,\r\n",
        "    # if you want.\r\n",
        "    position, velocity = obs\r\n",
        "    \r\n",
        "    # This is an example policy. You can try running it, but it will not work \r\n",
        "    # since its just using random actions. \r\n",
        "    # The actions are\r\n",
        "    #    0      Accelerate to the Left\r\n",
        "    #    1      Don't accelerate\r\n",
        "    #    2      Accelerate to the Right\r\n",
        "\r\n",
        "    # seed random number generator with the system clock\r\n",
        "    seed(time.clock())\r\n",
        "        \r\n",
        "    # generate random integers between zero and two\r\n",
        "    actions = randint(0,2)\r\n",
        "   \r\n",
        "    return actions"
      ],
      "execution_count": null,
      "outputs": []
    }
  ]
}